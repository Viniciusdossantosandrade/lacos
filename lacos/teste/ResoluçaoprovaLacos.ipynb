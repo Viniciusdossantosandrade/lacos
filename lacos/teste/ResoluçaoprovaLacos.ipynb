{
  "nbformat": 4,
  "nbformat_minor": 0,
  "metadata": {
    "colab": {
      "provenance": [],
      "authorship_tag": "ABX9TyN//nUif07OdpzLc9kC61fG",
      "include_colab_link": true
    },
    "kernelspec": {
      "name": "python3",
      "display_name": "Python 3"
    },
    "language_info": {
      "name": "python"
    }
  },
  "cells": [
    {
      "cell_type": "markdown",
      "metadata": {
        "id": "view-in-github",
        "colab_type": "text"
      },
      "source": [
        "<a href=\"https://colab.research.google.com/github/Viniciusdossantosandrade/lacos/blob/main/lacos/teste/Resolu%C3%A7aoprovaLacos.ipynb\" target=\"_parent\"><img src=\"https://colab.research.google.com/assets/colab-badge.svg\" alt=\"Open In Colab\"/></a>"
      ]
    },
    {
      "cell_type": "code",
      "execution_count": null,
      "metadata": {
        "colab": {
          "base_uri": "https://localhost:8080/",
          "height": 106
        },
        "id": "Ybr6gwgVMuhm",
        "outputId": "9f4711bf-eec0-41e9-9f8e-ffd9dfcc32b9"
      },
      "outputs": [
        {
          "output_type": "error",
          "ename": "SyntaxError",
          "evalue": "invalid syntax (<ipython-input-29-b4202cd531d0>, line 7)",
          "traceback": [
            "\u001b[0;36m  File \u001b[0;32m\"<ipython-input-29-b4202cd531d0>\"\u001b[0;36m, line \u001b[0;32m7\u001b[0m\n\u001b[0;31m    resp int(input(\"Digite um numero ente 1 e 100: \"))\u001b[0m\n\u001b[0m         ^\u001b[0m\n\u001b[0;31mSyntaxError\u001b[0m\u001b[0;31m:\u001b[0m invalid syntax\n"
          ]
        }
      ],
      "source": [
        "import random\n",
        "secreto = random.randrange(1,100)\n",
        "resp = 0\n",
        "erros = 0\n",
        "calcu = 0\n",
        "pontos = 100\n",
        "print(\"Bem vindo ao jogo!\")\n",
        "print(\"Você tem 100 pontos, a cada erro você perdera 5 pontos\")\n",
        "print(\"Tente adivinhar o numero secreto entre 1 e 100\")\n",
        "while resp != 20:\n",
        "  resp = int(input(\"Digite um número de 1 a 100: \"))\n",
        "  if resp <=0 or resp > 100:\n",
        "    print(\"Número fora do padrão\")\n",
        "    break\n",
        "  if resp > secreto:\n",
        "    print(\"Muito alto\")\n",
        "    calcu = resp - secreto\n",
        "    if calcu <= 10:\n",
        "     print(\"Quente - Você esta proximo\")\n",
        "    elif calcu > 5 and calcu <= 10:\n",
        "      print(\"Morno - Você está mais ou menos\")\n",
        "    elif calcu > 10 and calcu <= 20:\n",
        "      print(\"Frio - Você está longe\")\n",
        "    elif calcu > 20:\n",
        "      print(\"Congelado - Você está muito longe\")\n",
        "  if resp < secreto:\n",
        "      print(\"Muito baixo\")\n",
        "      calcu = secreto - resp\n",
        "      if calcu <= 10:\n",
        "        print(\"Quente - Você esta quase lá\")\n",
        "      elif calcu > 5 and calcu <= 10:\n",
        "        print(\"Morno - Você esta mais ou menos perto\")\n",
        "      elif calcu > 10 and calcu <= 20:\n",
        "        print(\"Frio - Você esta distante\")\n",
        "      elif calcu > 20:\n",
        "        print(\"Congelando - Você está muito longe\")\n",
        "  if resp == secreto:\n",
        "      print(\"Você acertou,parabéns\")\n",
        "      break\n",
        "  erros = erros +1\n",
        "  print(\"Você errou:\", erros, \"vezes\")\n",
        "  pontos = pontos - 5\n",
        "  if pontos == 0:\n",
        "    print(\"Você perdeu todos os pontos\")\n",
        "    break\n",
        "  print(\"Você tem:\", pontos, \"pontos\")\n",
        "print(\"Fim de jogo\")\n",
        "\n",
        "\n",
        "\n",
        "\n",
        "\n"
      ]
    },
    {
      "cell_type": "code",
      "source": [
        "\n",
        "  print(\"valor)\n"
      ],
      "metadata": {
        "id": "_Yto1LodplZV"
      },
      "execution_count": null,
      "outputs": []
    },
    {
      "cell_type": "code",
      "source": [],
      "metadata": {
        "id": "ZZPwRmgeiSkO"
      },
      "execution_count": null,
      "outputs": []
    }
  ]
}